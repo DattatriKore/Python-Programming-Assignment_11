{
 "cells": [
  {
   "cell_type": "code",
   "execution_count": 3,
   "id": "d0ee961b",
   "metadata": {},
   "outputs": [
    {
     "name": "stdout",
     "output_type": "stream",
     "text": [
      "python\n",
      "good\n"
     ]
    }
   ],
   "source": [
    "# Q.[1] : Write a Python program to find words which are greater than given length k?\n",
    "\n",
    "def word(k,d):\n",
    "    word = d.split(\" \")\n",
    "    for x in word:\n",
    "        if len(x)>k:\n",
    "            print(x)\n",
    "k = 3\n",
    "d = \"python is good\"\n",
    "word(k,d)"
   ]
  },
  {
   "cell_type": "code",
   "execution_count": 4,
   "id": "74d42417",
   "metadata": {},
   "outputs": [
    {
     "name": "stdout",
     "output_type": "stream",
     "text": [
      "Enter the string: python\n",
      "Enter the value of i-th: 3\n",
      "i-th character from a string is: pyhon\n"
     ]
    }
   ],
   "source": [
    "# Q.[2] : Write a Python program for removing i-th character from a string?\n",
    "\n",
    "s = input(\"Enter the string: \")\n",
    "n = int(input(\"Enter the value of i-th: \"))\n",
    "a = s[0:n-1]\n",
    "b = s[n:]\n",
    "print(f\"i-th character from a string is: {a+b}\")"
   ]
  },
  {
   "cell_type": "code",
   "execution_count": 5,
   "id": "a72e7866",
   "metadata": {},
   "outputs": [
    {
     "name": "stdout",
     "output_type": "stream",
     "text": [
      "['python', 'is', 'good']\n",
      "python_is_good\n"
     ]
    }
   ],
   "source": [
    "# Q.[3] : Write a Python program to split and join a string?\n",
    "\n",
    "d = \"python is good\"\n",
    "print(d.split(\" \"))\n",
    "print(\"_\".join(d.split()))"
   ]
  },
  {
   "cell_type": "code",
   "execution_count": 8,
   "id": "0399a7dc",
   "metadata": {},
   "outputs": [
    {
     "name": "stdout",
     "output_type": "stream",
     "text": [
      "yes\n"
     ]
    }
   ],
   "source": [
    "# Q.[4] : Write a Python to check if a given string is binary string or not?\n",
    " \n",
    "string = \"10101010110010\"\n",
    "if string.count('0') + string.count('1') == len(string):\n",
    "    print(\"yes\")\n",
    "else:\n",
    "    print(\"no\")"
   ]
  },
  {
   "cell_type": "code",
   "execution_count": 10,
   "id": "824565f2",
   "metadata": {},
   "outputs": [
    {
     "name": "stdout",
     "output_type": "stream",
     "text": [
      "['peach', 'mango']\n"
     ]
    }
   ],
   "source": [
    "# Q.[5] : Write a Python program to find uncommon words from two Strings?\n",
    "\n",
    "def uncommon(d1,d2):\n",
    "    d1 = d1.split()\n",
    "    d2 = d2.split()\n",
    "    k = set(d1).symmetric_difference(set(d2))\n",
    "    return k\n",
    "a = \"berry mango cherry\"\n",
    "b = \"berry peach cherry\"\n",
    "print(list(uncommon(a,b)))"
   ]
  },
  {
   "cell_type": "code",
   "execution_count": 29,
   "id": "f2a2e8c9",
   "metadata": {},
   "outputs": [
    {
     "name": "stdout",
     "output_type": "stream",
     "text": [
      "e r y  \n"
     ]
    }
   ],
   "source": [
    "# Q.[6] : Write a Python to find all duplicate characters in string?\n",
    "\n",
    "def dup_char(input):\n",
    "    x = []\n",
    "    for i in input:\n",
    "        if i not in x and input.count(i)>1:\n",
    "            x.append(i)\n",
    "    print(\" \".join(x))\n",
    "    \n",
    "input = \"berry mango cherry\"\n",
    "dup_char(input)"
   ]
  },
  {
   "cell_type": "code",
   "execution_count": 41,
   "id": "5c6e7f65",
   "metadata": {},
   "outputs": [
    {
     "name": "stdout",
     "output_type": "stream",
     "text": [
      "string is accepted\n"
     ]
    }
   ],
   "source": [
    "# Q.[7] : Write a Python Program to check if a string contains any special character?\n",
    "\n",
    "import re\n",
    "\n",
    "def cheak(string):\n",
    "    special_char = re.compile('[@_!$%^&*()<>?/\\|}{~:]#')\n",
    "    \n",
    "    if special_char.search(string) == None:\n",
    "        return \"string is accepted\"\n",
    "    else:\n",
    "        return \"string not accepted\"\n",
    "d = \"hello dk 24\"\n",
    "print(cheak(d))"
   ]
  },
  {
   "cell_type": "code",
   "execution_count": null,
   "id": "2cd78dfa",
   "metadata": {},
   "outputs": [],
   "source": []
  }
 ],
 "metadata": {
  "kernelspec": {
   "display_name": "Python 3 (ipykernel)",
   "language": "python",
   "name": "python3"
  },
  "language_info": {
   "codemirror_mode": {
    "name": "ipython",
    "version": 3
   },
   "file_extension": ".py",
   "mimetype": "text/x-python",
   "name": "python",
   "nbconvert_exporter": "python",
   "pygments_lexer": "ipython3",
   "version": "3.9.12"
  }
 },
 "nbformat": 4,
 "nbformat_minor": 5
}
